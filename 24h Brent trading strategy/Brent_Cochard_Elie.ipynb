{
 "cells": [
  {
   "cell_type": "markdown",
   "id": "6b0e68ab",
   "metadata": {},
   "source": [
    "Please find attached “Brent.csv” which is the daily synthetic price of Brent since 1990. We ask you to propose a trading strategy based on this asset. The strategy is not necessary long only, i.e. you can decide to short the asset (and bet against the asset). You can also be flat some days if you want. The assessment has to be completed in 24 hours."
   ]
  },
  {
   "cell_type": "code",
   "execution_count": 1,
   "id": "75f66ef3",
   "metadata": {},
   "outputs": [],
   "source": [
    "import pandas as pd\n",
    "import numpy as np\n",
    "import matplotlib.pyplot as plt\n",
    "from matplotlib.pyplot import figure\n",
    "import talib"
   ]
  },
  {
   "cell_type": "markdown",
   "id": "274d1eca",
   "metadata": {},
   "source": [
    "For this exercise, I experimented with simple trading strategies and this gave me an understanding of the trends behind the evolution of Brent prices. I know this was a very simple way of looking at the problem and that many parameters were not taken into account. If I had more time, I would include those parameters to produce more precise backtesting results and compare more efficiently the risk-return elements of each one. I would also have included external data (maybe the CPI to account for the bullish or bearish feeling among consumers and the expanding or contracting global demand; I would also have added longer term futures to explore contango and backwardation phenomena."
   ]
  },
  {
   "cell_type": "markdown",
   "id": "5e49cf8b",
   "metadata": {},
   "source": [
    "## Exploring the data"
   ]
  },
  {
   "cell_type": "markdown",
   "id": "5ad36d1c",
   "metadata": {},
   "source": [
    "I'm going to start with a quick EDA to get familiar with the data at hand"
   ]
  },
  {
   "cell_type": "code",
   "execution_count": 2,
   "id": "4969e8b1",
   "metadata": {},
   "outputs": [],
   "source": [
    "data = pd.read_csv(\"Brent.csv\")"
   ]
  },
  {
   "cell_type": "code",
   "execution_count": 3,
   "id": "c0dce842",
   "metadata": {},
   "outputs": [
    {
     "data": {
      "text/html": [
       "<div>\n",
       "<style scoped>\n",
       "    .dataframe tbody tr th:only-of-type {\n",
       "        vertical-align: middle;\n",
       "    }\n",
       "\n",
       "    .dataframe tbody tr th {\n",
       "        vertical-align: top;\n",
       "    }\n",
       "\n",
       "    .dataframe thead th {\n",
       "        text-align: right;\n",
       "    }\n",
       "</style>\n",
       "<table border=\"1\" class=\"dataframe\">\n",
       "  <thead>\n",
       "    <tr style=\"text-align: right;\">\n",
       "      <th></th>\n",
       "      <th>Unnamed: 0</th>\n",
       "      <th>Brent</th>\n",
       "    </tr>\n",
       "  </thead>\n",
       "  <tbody>\n",
       "    <tr>\n",
       "      <th>0</th>\n",
       "      <td>1990-06-05</td>\n",
       "      <td>96.273671</td>\n",
       "    </tr>\n",
       "    <tr>\n",
       "      <th>1</th>\n",
       "      <td>1990-06-06</td>\n",
       "      <td>95.357361</td>\n",
       "    </tr>\n",
       "    <tr>\n",
       "      <th>2</th>\n",
       "      <td>1990-06-07</td>\n",
       "      <td>95.357361</td>\n",
       "    </tr>\n",
       "    <tr>\n",
       "      <th>3</th>\n",
       "      <td>1990-06-08</td>\n",
       "      <td>95.601710</td>\n",
       "    </tr>\n",
       "    <tr>\n",
       "      <th>4</th>\n",
       "      <td>1990-06-11</td>\n",
       "      <td>95.601710</td>\n",
       "    </tr>\n",
       "    <tr>\n",
       "      <th>...</th>\n",
       "      <td>...</td>\n",
       "      <td>...</td>\n",
       "    </tr>\n",
       "    <tr>\n",
       "      <th>8052</th>\n",
       "      <td>2022-09-26</td>\n",
       "      <td>929.447199</td>\n",
       "    </tr>\n",
       "    <tr>\n",
       "      <th>8053</th>\n",
       "      <td>2022-09-27</td>\n",
       "      <td>951.993528</td>\n",
       "    </tr>\n",
       "    <tr>\n",
       "      <th>8054</th>\n",
       "      <td>2022-09-28</td>\n",
       "      <td>987.663841</td>\n",
       "    </tr>\n",
       "    <tr>\n",
       "      <th>8055</th>\n",
       "      <td>2022-09-29</td>\n",
       "      <td>977.904981</td>\n",
       "    </tr>\n",
       "    <tr>\n",
       "      <th>8056</th>\n",
       "      <td>2022-09-30</td>\n",
       "      <td>955.022140</td>\n",
       "    </tr>\n",
       "  </tbody>\n",
       "</table>\n",
       "<p>8057 rows × 2 columns</p>\n",
       "</div>"
      ],
      "text/plain": [
       "      Unnamed: 0       Brent\n",
       "0     1990-06-05   96.273671\n",
       "1     1990-06-06   95.357361\n",
       "2     1990-06-07   95.357361\n",
       "3     1990-06-08   95.601710\n",
       "4     1990-06-11   95.601710\n",
       "...          ...         ...\n",
       "8052  2022-09-26  929.447199\n",
       "8053  2022-09-27  951.993528\n",
       "8054  2022-09-28  987.663841\n",
       "8055  2022-09-29  977.904981\n",
       "8056  2022-09-30  955.022140\n",
       "\n",
       "[8057 rows x 2 columns]"
      ]
     },
     "execution_count": 3,
     "metadata": {},
     "output_type": "execute_result"
    }
   ],
   "source": [
    "data"
   ]
  },
  {
   "cell_type": "markdown",
   "id": "f8518355",
   "metadata": {},
   "source": [
    "The dataset is composed of two columns: every trading day since 1990-06-05 up until 2022-09-30 and the synthetic price of Brent for each of those days."
   ]
  },
  {
   "cell_type": "code",
   "execution_count": 4,
   "id": "042ba2be",
   "metadata": {},
   "outputs": [
    {
     "data": {
      "text/html": [
       "<div>\n",
       "<style scoped>\n",
       "    .dataframe tbody tr th:only-of-type {\n",
       "        vertical-align: middle;\n",
       "    }\n",
       "\n",
       "    .dataframe tbody tr th {\n",
       "        vertical-align: top;\n",
       "    }\n",
       "\n",
       "    .dataframe thead th {\n",
       "        text-align: right;\n",
       "    }\n",
       "</style>\n",
       "<table border=\"1\" class=\"dataframe\">\n",
       "  <thead>\n",
       "    <tr style=\"text-align: right;\">\n",
       "      <th></th>\n",
       "      <th>Brent</th>\n",
       "    </tr>\n",
       "  </thead>\n",
       "  <tbody>\n",
       "    <tr>\n",
       "      <th>count</th>\n",
       "      <td>8057.000000</td>\n",
       "    </tr>\n",
       "    <tr>\n",
       "      <th>mean</th>\n",
       "      <td>662.381683</td>\n",
       "    </tr>\n",
       "    <tr>\n",
       "      <th>std</th>\n",
       "      <td>457.020965</td>\n",
       "    </tr>\n",
       "    <tr>\n",
       "      <th>min</th>\n",
       "      <td>93.271419</td>\n",
       "    </tr>\n",
       "    <tr>\n",
       "      <th>25%</th>\n",
       "      <td>262.348732</td>\n",
       "    </tr>\n",
       "    <tr>\n",
       "      <th>50%</th>\n",
       "      <td>555.817849</td>\n",
       "    </tr>\n",
       "    <tr>\n",
       "      <th>75%</th>\n",
       "      <td>1023.447452</td>\n",
       "    </tr>\n",
       "    <tr>\n",
       "      <th>max</th>\n",
       "      <td>2449.760442</td>\n",
       "    </tr>\n",
       "  </tbody>\n",
       "</table>\n",
       "</div>"
      ],
      "text/plain": [
       "             Brent\n",
       "count  8057.000000\n",
       "mean    662.381683\n",
       "std     457.020965\n",
       "min      93.271419\n",
       "25%     262.348732\n",
       "50%     555.817849\n",
       "75%    1023.447452\n",
       "max    2449.760442"
      ]
     },
     "execution_count": 4,
     "metadata": {},
     "output_type": "execute_result"
    }
   ],
   "source": [
    "data.describe()"
   ]
  },
  {
   "cell_type": "markdown",
   "id": "f9adf481",
   "metadata": {},
   "source": [
    "As we can see, there were significant variations of the synthetic price of Brent for the given period, given the min/max values and the std. Let's now clean the data from possible missing values, turn the time column values into datetime format and plot our data"
   ]
  },
  {
   "cell_type": "code",
   "execution_count": 5,
   "id": "4e6a212b",
   "metadata": {},
   "outputs": [
    {
     "data": {
      "text/plain": [
       "Unnamed: 0    0\n",
       "Brent         0\n",
       "dtype: int64"
      ]
     },
     "execution_count": 5,
     "metadata": {},
     "output_type": "execute_result"
    }
   ],
   "source": [
    "data.isnull().sum()"
   ]
  },
  {
   "cell_type": "code",
   "execution_count": 6,
   "id": "966d01cb",
   "metadata": {},
   "outputs": [
    {
     "data": {
      "text/plain": [
       "Unnamed: 0     object\n",
       "Brent         float64\n",
       "dtype: object"
      ]
     },
     "execution_count": 6,
     "metadata": {},
     "output_type": "execute_result"
    }
   ],
   "source": [
    "data.dtypes"
   ]
  },
  {
   "cell_type": "code",
   "execution_count": 7,
   "id": "e97737e1",
   "metadata": {},
   "outputs": [],
   "source": [
    "data['date'] = pd.to_datetime(data['Unnamed: 0'])\n",
    "data.set_index('date', inplace=True)"
   ]
  },
  {
   "cell_type": "code",
   "execution_count": 8,
   "id": "f184e2c9",
   "metadata": {},
   "outputs": [],
   "source": [
    "data.drop('Unnamed: 0', axis=1, inplace=True)"
   ]
  },
  {
   "cell_type": "code",
   "execution_count": 9,
   "id": "9dc2c61a",
   "metadata": {},
   "outputs": [
    {
     "data": {
      "text/plain": [
       "[<matplotlib.lines.Line2D at 0x7f9c00680f70>]"
      ]
     },
     "execution_count": 9,
     "metadata": {},
     "output_type": "execute_result"
    },
    {
     "data": {
      "image/png": "[encoded data removed]",
      "text/plain": [
       "<Figure size 960x960 with 1 Axes>"
      ]
     },
     "metadata": {
      "needs_background": "light"
     },
     "output_type": "display_data"
    }
   ],
   "source": [
    "figure(figsize=(12, 12), dpi=80)\n",
    "plt.plot(data)"
   ]
  },
  {
   "cell_type": "markdown",
   "id": "3fd78e9b",
   "metadata": {},
   "source": [
    "We can see strong evolutions in the synthetic price of Brent. A general rise until the 2008 financial crisis (with a fall in 1997/8 certainly due to the Asian crisis), and then the 2008 crash. Rising again until 2014 to suffer another trough due to weaker global demand and increased US shale oil production. Then another fall in 2020 linked to the Covid pandemic. The price has greatly evolved during the period and this can be linked with major global economic events"
   ]
  },
  {
   "cell_type": "code",
   "execution_count": 10,
   "id": "87458fda",
   "metadata": {},
   "outputs": [
    {
     "data": {
      "image/png": "[encoded data removed]",
      "text/plain": [
       "<Figure size 432x288 with 1 Axes>"
      ]
     },
     "metadata": {
      "needs_background": "light"
     },
     "output_type": "display_data"
    }
   ],
   "source": [
    "data['Brent'].hist()\n",
    "plt.show()"
   ]
  },
  {
   "cell_type": "markdown",
   "id": "3de1f720",
   "metadata": {},
   "source": [
    "## Holding strategy"
   ]
  },
  {
   "cell_type": "code",
   "execution_count": 11,
   "id": "d6dde1e8",
   "metadata": {},
   "outputs": [
    {
     "data": {
      "text/plain": [
       "8.919868289365414"
      ]
     },
     "execution_count": 11,
     "metadata": {},
     "output_type": "execute_result"
    }
   ],
   "source": [
    "(data[\"Brent\"][-1] - data[\"Brent\"][0]) / (data[\"Brent\"][0])"
   ]
  },
  {
   "cell_type": "markdown",
   "id": "88489b82",
   "metadata": {},
   "source": [
    "If one had adopted a holding strategy between the beginning of the period and the end of the period, it would have yielded a 892% return over the period. We can use this metric to compare this to the trading strategies we will define. Let's now add a daily returns column to our dataset, which we will then use in the following"
   ]
  },
  {
   "cell_type": "code",
   "execution_count": 12,
   "id": "c5fa01a3",
   "metadata": {},
   "outputs": [],
   "source": [
    "data['returns'] = data['Brent'].pct_change()"
   ]
  },
  {
   "cell_type": "code",
   "execution_count": 13,
   "id": "54b48556",
   "metadata": {},
   "outputs": [],
   "source": [
    "data.fillna(0, inplace=True)"
   ]
  },
  {
   "cell_type": "markdown",
   "id": "3746ab49",
   "metadata": {},
   "source": [
    "## First trading strategy: momentum"
   ]
  },
  {
   "cell_type": "markdown",
   "id": "9337f086",
   "metadata": {},
   "source": [
    "My first idea is to use a momentum-based trading strategy, where strong current upwards momentums in the price mean we should long the asset, and short it otherwise. To do this, I'm going to compute several moving averages for common time periods (9, 21, 30, 60, 120 days) and compare some to others to define if I long or short Brent. For instance, I will compare the 9-day moving average to the 30, 60 and 120 days MA, then the 21 to 60 and 120, and then the 30 to 120 MA, in order to compare shorter-term MA to longer-term MA. If Brent prices have a strong upward or downward trend, then this strategy is likely to yield positive results. I will be using the TA-library for moving averages computations."
   ]
  },
  {
   "cell_type": "code",
   "execution_count": 14,
   "id": "79c8f7a8",
   "metadata": {},
   "outputs": [],
   "source": [
    "data_copy = data.copy()"
   ]
  },
  {
   "cell_type": "code",
   "execution_count": 15,
   "id": "e88fdd9e",
   "metadata": {},
   "outputs": [],
   "source": [
    "time_periods = [9, 21, 30, 60, 120]\n",
    "\n",
    "for period in time_periods:\n",
    "    column_name = 'ma_' + str(period)\n",
    "    data_copy[column_name] = talib.SMA(data_copy['Brent'], timeperiod=period)"
   ]
  },
  {
   "cell_type": "code",
   "execution_count": 16,
   "id": "0f0fc90c",
   "metadata": {},
   "outputs": [],
   "source": [
    "data_copy.dropna(inplace=True)"
   ]
  },
  {
   "cell_type": "code",
   "execution_count": 17,
   "id": "7ce26440",
   "metadata": {},
   "outputs": [],
   "source": [
    "data_copy['position_9_30'] = np.where(data_copy['ma_9'] > data_copy['ma_30'], 1, -1)\n",
    "data_copy['position_9_60'] = np.where(data_copy['ma_9'] > data_copy['ma_60'], 1, -1)\n",
    "data_copy['position_9_120'] = np.where(data_copy['ma_9'] > data_copy['ma_120'], 1, -1)\n",
    "data_copy['position_21_60'] = np.where(data_copy['ma_21'] > data_copy['ma_60'], 1, -1)\n",
    "data_copy['position_21_120'] = np.where(data_copy['ma_21'] > data_copy['ma_120'], 1, -1)\n",
    "data_copy['position_30_120'] = np.where(data_copy['ma_30'] > data_copy['ma_120'], 1, -1)"
   ]
  },
  {
   "cell_type": "code",
   "execution_count": 18,
   "id": "6628ef28",
   "metadata": {},
   "outputs": [],
   "source": [
    "data_copy['returns2'] = data_copy['returns'].shift(-1)\n",
    "data_copy['returns2'].fillna(0, inplace=True)"
   ]
  },
  {
   "cell_type": "code",
   "execution_count": 19,
   "id": "76249f9e",
   "metadata": {},
   "outputs": [],
   "source": [
    "for col in data_copy.columns:\n",
    "    if 'position' in col:\n",
    "        data_copy[col+'_pnl'] = data_copy[col] * data_copy['returns2']"
   ]
  },
  {
   "cell_type": "code",
   "execution_count": 20,
   "id": "5bb7c01b",
   "metadata": {},
   "outputs": [
    {
     "name": "stdout",
     "output_type": "stream",
     "text": [
      "the final return for position_9_30_pnl is: 14.524240597220803\n",
      "the final return for position_9_60_pnl is: 13.007308806649721\n",
      "the final return for position_9_120_pnl is: 2.654928438840394\n",
      "the final return for position_21_60_pnl is: 3.2547351082916776\n",
      "the final return for position_21_120_pnl is: 2.3837452800851837\n",
      "the final return for position_30_120_pnl is: 20.362659439844965\n"
     ]
    }
   ],
   "source": [
    "for col in data_copy.columns:\n",
    "    if '_pnl' in col:\n",
    "        final_return = (1 + data_copy[col]).prod()\n",
    "        print(f\"the final return for {col} is: {final_return}\")"
   ]
  },
  {
   "cell_type": "markdown",
   "id": "a3f8d3f6",
   "metadata": {},
   "source": [
    "These strategies seem to yield high returns, especially the 9/30, 9/60 and 30/120 momentum strategies. The returns of these strategies are significantly higher than the holding strategy"
   ]
  },
  {
   "cell_type": "markdown",
   "id": "cd16582c",
   "metadata": {},
   "source": [
    "For more precise backtesting, let me assume that the number of trading days per year is 252 and that the average risk-free during that period was around 4%."
   ]
  },
  {
   "cell_type": "code",
   "execution_count": 21,
   "id": "7d3e7694",
   "metadata": {},
   "outputs": [
    {
     "name": "stdout",
     "output_type": "stream",
     "text": [
      "the average annual return for position_9_30_pnl is: 0.0886589694294111\n",
      "The sharpe ratio for position_9_30_pnl is: 0.13725663525785015\n",
      "The maximum drawdown for the position_9_30_pnl is: -0.7359233091211947\n",
      "\n",
      "the average annual return for position_9_60_pnl is: 0.08485333944466422\n",
      "The sharpe ratio for position_9_60_pnl is: 0.12651933181761083\n",
      "The maximum drawdown for the position_9_60_pnl is: -0.7775725798087078\n",
      "\n",
      "the average annual return for position_9_120_pnl is: 0.03148280896142719\n",
      "The sharpe ratio for position_9_120_pnl is: -0.024020232103697733\n",
      "The maximum drawdown for the position_9_120_pnl is: -0.8389572221525714\n",
      "\n",
      "the average annual return for position_21_60_pnl is: 0.03817445378706186\n",
      "The sharpe ratio for position_21_60_pnl is: -0.005148506449143055\n",
      "The maximum drawdown for the position_21_60_pnl is: -0.7939394722005906\n",
      "\n",
      "the average annual return for position_21_120_pnl is: 0.02796068012253361\n",
      "The sharpe ratio for position_21_120_pnl is: -0.03395302084379611\n",
      "The maximum drawdown for the position_21_120_pnl is: -0.7956588985989038\n",
      "\n",
      "the average annual return for position_30_120_pnl is: 0.1003992900437658\n",
      "The sharpe ratio for position_30_120_pnl is: 0.17038183829728762\n",
      "The maximum drawdown for the position_30_120_pnl is: -0.7323460711880896\n",
      "\n"
     ]
    }
   ],
   "source": [
    "trading_days_per_year = 252\n",
    "risk_free_rate = 0.04\n",
    "for col in data_copy.columns:\n",
    "    if '_pnl' in col:\n",
    "        pnl_col = data_copy[col]\n",
    "        average_annual_return = (1 + pnl_col).prod() ** (252/len(pnl_col)) - 1\n",
    "        annual_std = pnl_col.std() * np.sqrt(252)\n",
    "        sharpe_ratio = (average_annual_return - risk_free_rate) / (pnl_col.std() * np.sqrt(252))\n",
    "        cumulative_returns = (1 + pnl_col).cumprod()\n",
    "        cumulative_returns = cumulative_returns / cumulative_returns.cummax() - 1\n",
    "        max_dd = cumulative_returns.min()\n",
    "        print(f\"the average annual return for {col} is: {average_annual_return}\")\n",
    "        print(f\"The sharpe ratio for {col} is: {sharpe_ratio}\")\n",
    "        print(f\"The maximum drawdown for the {col} is: {max_dd}\\n\")"
   ]
  },
  {
   "cell_type": "markdown",
   "id": "eec5950d",
   "metadata": {},
   "source": [
    "As we can see, the annualized returns are correct for our 3 selected (8-10%) strategies. However, the maximum drawdowns indicate risky strategies which might be difficult to put in place over time, and this is confirmed by the quite low Sharpe ratios: these strategies do not have an optimal risk-reward ratio."
   ]
  },
  {
   "cell_type": "markdown",
   "id": "7d6ce4ae",
   "metadata": {},
   "source": [
    "I know that these numbers for profits are very high and many things are not taken into account, such as volume, transaction costs, slippage, risk limits... I wanted to experiment simple strategies with our dataset even though the returns from these strategies could not have been as high in reality"
   ]
  },
  {
   "cell_type": "markdown",
   "id": "32ffdab8",
   "metadata": {},
   "source": [
    "## Second strategy: mean reversion"
   ]
  },
  {
   "cell_type": "markdown",
   "id": "0d5fb825",
   "metadata": {},
   "source": [
    "I want to try a second strategy, mean reversion. Maybe Brent prices tend to move towards a long-term average ? Let's find out if this is profitable."
   ]
  },
  {
   "cell_type": "code",
   "execution_count": 22,
   "id": "2aa9189d",
   "metadata": {},
   "outputs": [],
   "source": [
    "data_copy = data.copy()"
   ]
  },
  {
   "cell_type": "code",
   "execution_count": 23,
   "id": "bf9bb6b7",
   "metadata": {},
   "outputs": [],
   "source": [
    "time_periods = [9, 21, 30, 60, 120]\n",
    "\n",
    "for period in time_periods:\n",
    "    column_name = 'ma_' + str(period)\n",
    "    data_copy[column_name] = talib.SMA(data_copy['Brent'], timeperiod=period)"
   ]
  },
  {
   "cell_type": "code",
   "execution_count": 24,
   "id": "2c4904ec",
   "metadata": {},
   "outputs": [],
   "source": [
    "data_copy.dropna(inplace=True)"
   ]
  },
  {
   "cell_type": "code",
   "execution_count": 25,
   "id": "aa44d660",
   "metadata": {},
   "outputs": [],
   "source": [
    "for i in range(len(data_copy.columns)):\n",
    "    if data_copy.columns[i] in ['ma_9', 'ma_21', 'ma_30', 'ma_60', 'ma_120']:\n",
    "        data_copy[data_copy.columns[i]+'_pos'] = np.where(data_copy[data_copy.columns[i]] > data_copy['Brent'], 1, -1)"
   ]
  },
  {
   "cell_type": "markdown",
   "id": "523f1272",
   "metadata": {},
   "source": [
    "I am comparing the daily synthetic prices with the 9, 21, 30, 60 and 120 days moving averages, and taking a long or short position in consequence"
   ]
  },
  {
   "cell_type": "code",
   "execution_count": 26,
   "id": "7866556e",
   "metadata": {},
   "outputs": [],
   "source": [
    "data_copy['returns2'] = data_copy['returns'].shift(-1)\n",
    "data_copy['returns2'].fillna(0, inplace=True)"
   ]
  },
  {
   "cell_type": "code",
   "execution_count": 27,
   "id": "317aebec",
   "metadata": {},
   "outputs": [],
   "source": [
    "for col in data_copy.columns:\n",
    "    if '_pos' in col:\n",
    "        data_copy[col+'_pnl'] = data_copy[col] * data_copy['returns2']"
   ]
  },
  {
   "cell_type": "code",
   "execution_count": 28,
   "id": "f67cd29d",
   "metadata": {},
   "outputs": [
    {
     "name": "stdout",
     "output_type": "stream",
     "text": [
      "the final return for ma_9_pos_pnl is: 0.04611364175336729\n",
      "the final return for ma_21_pos_pnl is: 0.00441006927595442\n",
      "the final return for ma_30_pos_pnl is: 0.0031956779450152315\n",
      "the final return for ma_60_pos_pnl is: 0.002621057114275533\n",
      "the final return for ma_120_pos_pnl is: 0.0014591380144085876\n"
     ]
    }
   ],
   "source": [
    "for col in data_copy.columns:\n",
    "    if '_pnl' in col:\n",
    "        final_return = (1 + data_copy[col]).cumprod().iloc[-1]\n",
    "        print(f\"the final return for {col} is: {final_return}\")"
   ]
  },
  {
   "cell_type": "markdown",
   "id": "f2c92e5b",
   "metadata": {},
   "source": [
    "The cumulated returns are very close to 0, so I will drop these mean reversion strategies. Maybe they could have worked better with additional parameters and criteria."
   ]
  },
  {
   "cell_type": "markdown",
   "id": "bcb8aa63",
   "metadata": {},
   "source": [
    "## Trying volatility strategies"
   ]
  },
  {
   "cell_type": "markdown",
   "id": "a7bde049",
   "metadata": {},
   "source": [
    "Then, let's try some strategies based on the volatility of the asset, using Bollinger Bands and RSI indicators. If the asset is overbought, we will sell it from the hypothesis that it will be corrected, and the inverse if it is oversold."
   ]
  },
  {
   "cell_type": "code",
   "execution_count": 29,
   "id": "eab31d4c",
   "metadata": {},
   "outputs": [],
   "source": [
    "data_copy = data.copy()"
   ]
  },
  {
   "cell_type": "code",
   "execution_count": 30,
   "id": "ea2fa695",
   "metadata": {},
   "outputs": [],
   "source": [
    "data_copy['bb_upper'], data_copy['bb_middle'], data_copy['bb_lower'] = talib.BBANDS(data_copy['Brent'], timeperiod=20)\n",
    "data_copy['RSI'] = talib.RSI(data_copy['Brent'])\n",
    "data_copy['bband_pos'] = np.where(data_copy['Brent'] < data_copy['bb_lower'], 1,\n",
    "                                  np.where(data_copy['Brent'] > data_copy['bb_upper'], -1, 0))\n",
    "data_copy['rsi_pos'] = np.where(data_copy['RSI'] < 30, 1, np.where(data_copy['RSI'] > 70, -1, 0))"
   ]
  },
  {
   "cell_type": "markdown",
   "id": "89e4afe2",
   "metadata": {},
   "source": [
    "If the current price is over the Bollinger upper band, it is overbought so we short it. Same if it is above an RSI of 70. And we short it if it's under the Bollinger lower band or under an RSI of 30. "
   ]
  },
  {
   "cell_type": "code",
   "execution_count": 31,
   "id": "f551ec37",
   "metadata": {},
   "outputs": [],
   "source": [
    "data_copy.dropna(inplace=True)"
   ]
  },
  {
   "cell_type": "code",
   "execution_count": 32,
   "id": "6dfb5201",
   "metadata": {},
   "outputs": [],
   "source": [
    "data_copy['returns2'] = data_copy['returns'].shift(-1)\n",
    "data_copy['returns2'].fillna(0, inplace=True)"
   ]
  },
  {
   "cell_type": "code",
   "execution_count": 33,
   "id": "7efc5ff8",
   "metadata": {},
   "outputs": [],
   "source": [
    "for col in data_copy.columns:\n",
    "    if '_pos' in col:\n",
    "        data_copy[col+'_pnl'] = data_copy[col] * data_copy['returns2']"
   ]
  },
  {
   "cell_type": "code",
   "execution_count": 34,
   "id": "b9ab17f7",
   "metadata": {},
   "outputs": [
    {
     "name": "stdout",
     "output_type": "stream",
     "text": [
      "the average annual return for bband_pos_pnl is: 0.00508269156448149\n",
      "The sharpe ratio for bband_pos_pnl is: -0.23527358322027073\n",
      "The maximum drawdown for the bband_pos_pnl is: -0.6360073381549383\n",
      "\n",
      "the average annual return for rsi_pos_pnl is: -0.06269271747152594\n",
      "The sharpe ratio for rsi_pos_pnl is: -0.6464646230917407\n",
      "The maximum drawdown for the rsi_pos_pnl is: -0.8893566792916671\n",
      "\n"
     ]
    }
   ],
   "source": [
    "for col in data_copy.columns:\n",
    "    if '_pnl' in col:\n",
    "        pnl_col = data_copy[col]\n",
    "        average_annual_return = (1 + pnl_col).prod() ** (252/len(pnl_col)) - 1\n",
    "        annual_std = pnl_col.std() * np.sqrt(252)\n",
    "        sharpe_ratio = (average_annual_return - risk_free_rate) / (pnl_col.std() * np.sqrt(252))\n",
    "        cumulative_returns = (1 + pnl_col).cumprod()\n",
    "        cumulative_returns = cumulative_returns / cumulative_returns.cummax() - 1\n",
    "        max_dd = cumulative_returns.min()\n",
    "        print(f\"the average annual return for {col} is: {average_annual_return}\")\n",
    "        print(f\"The sharpe ratio for {col} is: {sharpe_ratio}\")\n",
    "        print(f\"The maximum drawdown for the {col} is: {max_dd}\\n\")"
   ]
  },
  {
   "cell_type": "markdown",
   "id": "3dd81148",
   "metadata": {},
   "source": [
    "Returns for this strategy are null or negative so I will drop these strategies based on volatility and overbought/oversold criteria. Given more time, maybe I could have optimized the timeperiods for these criteria, as well as the RSI thresholds, to find better working strategies"
   ]
  },
  {
   "cell_type": "markdown",
   "id": "6e211c48",
   "metadata": {},
   "source": [
    "# Combining momentum and volatility"
   ]
  },
  {
   "cell_type": "markdown",
   "id": "0c0a197a",
   "metadata": {},
   "source": [
    "Now, I will try to combine some of my best momentum-based strategies with volatility indicators. Maybe this will allow to reduce the risk and maximum drawdown of these strategies ?"
   ]
  },
  {
   "cell_type": "code",
   "execution_count": 35,
   "id": "cc9c294c",
   "metadata": {},
   "outputs": [],
   "source": [
    "data_copy = data.copy()"
   ]
  },
  {
   "cell_type": "code",
   "execution_count": 36,
   "id": "50e4e614",
   "metadata": {},
   "outputs": [],
   "source": [
    "time_periods = [9, 30, 60, 120]\n",
    "\n",
    "for period in time_periods:\n",
    "    column_name = 'ma_' + str(period)\n",
    "    data_copy[column_name] = talib.SMA(data_copy['Brent'], timeperiod=period)"
   ]
  },
  {
   "cell_type": "code",
   "execution_count": 37,
   "id": "e67380ab",
   "metadata": {},
   "outputs": [],
   "source": [
    "data_copy['bb_upper'], data_copy['bb_middle'], data_copy['bb_lower'] = talib.BBANDS(data_copy['Brent'], timeperiod=20)\n",
    "data_copy['RSI'] = talib.RSI(data_copy['Brent'])"
   ]
  },
  {
   "cell_type": "code",
   "execution_count": 38,
   "id": "df34fb33",
   "metadata": {},
   "outputs": [],
   "source": [
    "data_copy.dropna(inplace=True)"
   ]
  },
  {
   "cell_type": "markdown",
   "id": "c86fcaee",
   "metadata": {},
   "source": [
    "Selecting the 9/30, 9/60 and 30/120 strategies, I will combine those with Bollinger bands and RSI criteria."
   ]
  },
  {
   "cell_type": "code",
   "execution_count": 39,
   "id": "93bcb45f",
   "metadata": {},
   "outputs": [],
   "source": [
    "data_copy['position_9_30_rsi'] = np.where((data_copy['ma_9'] > data_copy['ma_30']) & (data_copy['RSI'] < 30), 1,\n",
    "                                          np.where((data_copy['ma_9'] < data_copy['ma_30']) &\n",
    "                                                   (data_copy['RSI'] > 70), -1, 0))\n",
    "data_copy['position_9_60_rsi'] = np.where((data_copy['ma_9'] > data_copy['ma_60']) & (data_copy['RSI'] < 30), 1,\n",
    "                                          np.where((data_copy['ma_9'] < data_copy['ma_60']) &\n",
    "                                                   (data_copy['RSI'] > 70), -1, 0))\n",
    "data_copy['position_30_120_rsi'] = np.where((data_copy['ma_30'] > data_copy['ma_120']) & (data_copy['RSI'] < 30), 1,\n",
    "                                          np.where((data_copy['ma_30'] < data_copy['ma_120']) &\n",
    "                                                   (data_copy['RSI'] > 70), -1, 0))\n",
    "\n",
    "\n",
    "data_copy['position_9_30_bb'] = np.where((data_copy['ma_9'] > data_copy['ma_30']) &\n",
    "                                         (data_copy['Brent'] < data_copy['bb_lower']), 1,\n",
    "                                          np.where((data_copy['ma_9'] < data_copy['ma_30']) & \n",
    "                                           (data_copy['Brent'] > data_copy['bb_upper']), -1, 0))\n",
    "data_copy['position_9_60_bb'] = np.where((data_copy['ma_9'] > data_copy['ma_60']) &\n",
    "                                         (data_copy['Brent'] < data_copy['bb_lower']), 1,\n",
    "                                          np.where((data_copy['ma_9'] < data_copy['ma_60']) & \n",
    "                                           (data_copy['Brent'] > data_copy['bb_upper']), -1, 0))\n",
    "data_copy['position_30_120_bb'] = np.where((data_copy['ma_30'] > data_copy['ma_120']) &\n",
    "                                         (data_copy['Brent'] < data_copy['bb_lower']), 1,\n",
    "                                          np.where((data_copy['ma_30'] < data_copy['ma_120']) & \n",
    "                                           (data_copy['Brent'] > data_copy['bb_upper']), -1, 0))\n"
   ]
  },
  {
   "cell_type": "code",
   "execution_count": 40,
   "id": "ddeb2045",
   "metadata": {},
   "outputs": [],
   "source": [
    "data_copy['returns2'] = data_copy['returns'].shift(-1)\n",
    "data_copy['returns2'].fillna(0, inplace=True)"
   ]
  },
  {
   "cell_type": "code",
   "execution_count": 41,
   "id": "9b768a88",
   "metadata": {},
   "outputs": [],
   "source": [
    "for col in data_copy.columns:\n",
    "    if 'position' in col:\n",
    "        data_copy[col+'_pnl'] = data_copy[col] * data_copy['returns2']"
   ]
  },
  {
   "cell_type": "code",
   "execution_count": 42,
   "id": "23e73d46",
   "metadata": {
    "scrolled": false
   },
   "outputs": [
    {
     "name": "stdout",
     "output_type": "stream",
     "text": [
      "the average annual return for position_9_30_rsi_pnl is: 0.0027130342407597485\n",
      "The sharpe ratio for position_9_30_rsi_pnl is: -2.9879370552980014\n",
      "The maximum drawdown for the position_9_30_rsi_pnl is: -0.01834862385321112\n",
      "\n",
      "the average annual return for position_9_60_rsi_pnl is: 0.001271359937144334\n",
      "The sharpe ratio for position_9_60_rsi_pnl is: -2.0707058326240264\n",
      "The maximum drawdown for the position_9_60_rsi_pnl is: -0.10642201834862375\n",
      "\n",
      "the average annual return for position_30_120_rsi_pnl is: 0.0014383681163092632\n",
      "The sharpe ratio for position_30_120_rsi_pnl is: -0.7419557480544834\n",
      "The maximum drawdown for the position_30_120_rsi_pnl is: -0.23205440298517843\n",
      "\n",
      "the average annual return for position_9_30_bb_pnl is: 0.0036022731339666603\n",
      "The sharpe ratio for position_9_30_bb_pnl is: -0.7201473461088765\n",
      "The maximum drawdown for the position_9_30_bb_pnl is: -0.1812388930992801\n",
      "\n",
      "the average annual return for position_9_60_bb_pnl is: 0.005589876367536384\n",
      "The sharpe ratio for position_9_60_bb_pnl is: -0.39972914239439766\n",
      "The maximum drawdown for the position_9_60_bb_pnl is: -0.4499984420112346\n",
      "\n",
      "the average annual return for position_30_120_bb_pnl is: 0.015412548242807356\n",
      "The sharpe ratio for position_30_120_bb_pnl is: -0.2485177546087605\n",
      "The maximum drawdown for the position_30_120_bb_pnl is: -0.4007018877559039\n",
      "\n"
     ]
    }
   ],
   "source": [
    "for col in data_copy.columns:\n",
    "    if '_pnl' in col:\n",
    "        pnl_col = data_copy[col]\n",
    "        average_annual_return = (1 + pnl_col).prod() ** (252/len(pnl_col)) - 1\n",
    "        annual_std = pnl_col.std() * np.sqrt(252)\n",
    "        sharpe_ratio = (average_annual_return - risk_free_rate) / (pnl_col.std() * np.sqrt(252))\n",
    "        cumulative_returns = (1 + pnl_col).cumprod()\n",
    "        cumulative_returns = cumulative_returns / cumulative_returns.cummax() - 1\n",
    "        max_dd = cumulative_returns.min()\n",
    "        print(f\"the average annual return for {col} is: {average_annual_return}\")\n",
    "        print(f\"The sharpe ratio for {col} is: {sharpe_ratio}\")\n",
    "        print(f\"The maximum drawdown for the {col} is: {max_dd}\\n\")"
   ]
  },
  {
   "cell_type": "markdown",
   "id": "f399c15b",
   "metadata": {},
   "source": [
    "As we can see, returns are close to null so this does not work. For the moment, the best working strategies were simple momentum-based strategy, especially the 30/120. It seems that Brent prices follow short term trends and are quite affected by momentum. I'm keeping in mind that this is a very simple, maybe naive analysis and that many crucial parameters for trading strategies, affecting yields, are not taken into account. "
   ]
  },
  {
   "cell_type": "markdown",
   "id": "e960475e",
   "metadata": {},
   "source": [
    "# MACD"
   ]
  },
  {
   "cell_type": "markdown",
   "id": "a725094c",
   "metadata": {},
   "source": [
    "Before ending this analysis, I wanted to try a last strategy using other TA-lib criteria. I hesitated between stochastic oscillator, CCI and MACD, but chose MACD since the two formers are linked to overbought/oversold indicators and this has yielded lesser returns in my previous analysis. The trigger to long or short assets will be when the MACD crosses our signal line (if it crosses above long, if it crosses below short)"
   ]
  },
  {
   "cell_type": "code",
   "execution_count": 43,
   "id": "1a65b28d",
   "metadata": {},
   "outputs": [],
   "source": [
    "data_copy = data.copy()"
   ]
  },
  {
   "cell_type": "code",
   "execution_count": 44,
   "id": "d7d0b336",
   "metadata": {},
   "outputs": [],
   "source": [
    "macd, macd_signal, macd_hist = talib.MACD(data_copy['Brent'])\n",
    "data_copy['position_macd'] = np.where(macd > macd_signal, 1, np.where(macd < macd_signal, -1, 0))"
   ]
  },
  {
   "cell_type": "code",
   "execution_count": 45,
   "id": "bab8cc50",
   "metadata": {},
   "outputs": [],
   "source": [
    "data_copy['returns2'] = data_copy['returns'].shift(-1)\n",
    "data_copy['returns2'].fillna(0, inplace=True)"
   ]
  },
  {
   "cell_type": "code",
   "execution_count": 46,
   "id": "e18809e9",
   "metadata": {},
   "outputs": [
    {
     "data": {
      "text/html": [
       "<div>\n",
       "<style scoped>\n",
       "    .dataframe tbody tr th:only-of-type {\n",
       "        vertical-align: middle;\n",
       "    }\n",
       "\n",
       "    .dataframe tbody tr th {\n",
       "        vertical-align: top;\n",
       "    }\n",
       "\n",
       "    .dataframe thead th {\n",
       "        text-align: right;\n",
       "    }\n",
       "</style>\n",
       "<table border=\"1\" class=\"dataframe\">\n",
       "  <thead>\n",
       "    <tr style=\"text-align: right;\">\n",
       "      <th></th>\n",
       "      <th>Brent</th>\n",
       "      <th>returns</th>\n",
       "      <th>position_macd</th>\n",
       "      <th>returns2</th>\n",
       "    </tr>\n",
       "    <tr>\n",
       "      <th>date</th>\n",
       "      <th></th>\n",
       "      <th></th>\n",
       "      <th></th>\n",
       "      <th></th>\n",
       "    </tr>\n",
       "  </thead>\n",
       "  <tbody>\n",
       "    <tr>\n",
       "      <th>1990-06-05</th>\n",
       "      <td>96.273671</td>\n",
       "      <td>0.000000</td>\n",
       "      <td>0</td>\n",
       "      <td>-0.009518</td>\n",
       "    </tr>\n",
       "    <tr>\n",
       "      <th>1990-06-06</th>\n",
       "      <td>95.357361</td>\n",
       "      <td>-0.009518</td>\n",
       "      <td>0</td>\n",
       "      <td>0.000000</td>\n",
       "    </tr>\n",
       "    <tr>\n",
       "      <th>1990-06-07</th>\n",
       "      <td>95.357361</td>\n",
       "      <td>0.000000</td>\n",
       "      <td>0</td>\n",
       "      <td>0.002562</td>\n",
       "    </tr>\n",
       "    <tr>\n",
       "      <th>1990-06-08</th>\n",
       "      <td>95.601710</td>\n",
       "      <td>0.002562</td>\n",
       "      <td>0</td>\n",
       "      <td>0.000000</td>\n",
       "    </tr>\n",
       "    <tr>\n",
       "      <th>1990-06-11</th>\n",
       "      <td>95.601710</td>\n",
       "      <td>0.000000</td>\n",
       "      <td>0</td>\n",
       "      <td>0.056250</td>\n",
       "    </tr>\n",
       "    <tr>\n",
       "      <th>...</th>\n",
       "      <td>...</td>\n",
       "      <td>...</td>\n",
       "      <td>...</td>\n",
       "      <td>...</td>\n",
       "    </tr>\n",
       "    <tr>\n",
       "      <th>2022-09-26</th>\n",
       "      <td>929.447199</td>\n",
       "      <td>-0.024260</td>\n",
       "      <td>-1</td>\n",
       "      <td>0.024258</td>\n",
       "    </tr>\n",
       "    <tr>\n",
       "      <th>2022-09-27</th>\n",
       "      <td>951.993528</td>\n",
       "      <td>0.024258</td>\n",
       "      <td>-1</td>\n",
       "      <td>0.037469</td>\n",
       "    </tr>\n",
       "    <tr>\n",
       "      <th>2022-09-28</th>\n",
       "      <td>987.663841</td>\n",
       "      <td>0.037469</td>\n",
       "      <td>-1</td>\n",
       "      <td>-0.009881</td>\n",
       "    </tr>\n",
       "    <tr>\n",
       "      <th>2022-09-29</th>\n",
       "      <td>977.904981</td>\n",
       "      <td>-0.009881</td>\n",
       "      <td>-1</td>\n",
       "      <td>-0.023400</td>\n",
       "    </tr>\n",
       "    <tr>\n",
       "      <th>2022-09-30</th>\n",
       "      <td>955.022140</td>\n",
       "      <td>-0.023400</td>\n",
       "      <td>-1</td>\n",
       "      <td>0.000000</td>\n",
       "    </tr>\n",
       "  </tbody>\n",
       "</table>\n",
       "<p>8057 rows × 4 columns</p>\n",
       "</div>"
      ],
      "text/plain": [
       "                 Brent   returns  position_macd  returns2\n",
       "date                                                     \n",
       "1990-06-05   96.273671  0.000000              0 -0.009518\n",
       "1990-06-06   95.357361 -0.009518              0  0.000000\n",
       "1990-06-07   95.357361  0.000000              0  0.002562\n",
       "1990-06-08   95.601710  0.002562              0  0.000000\n",
       "1990-06-11   95.601710  0.000000              0  0.056250\n",
       "...                ...       ...            ...       ...\n",
       "2022-09-26  929.447199 -0.024260             -1  0.024258\n",
       "2022-09-27  951.993528  0.024258             -1  0.037469\n",
       "2022-09-28  987.663841  0.037469             -1 -0.009881\n",
       "2022-09-29  977.904981 -0.009881             -1 -0.023400\n",
       "2022-09-30  955.022140 -0.023400             -1  0.000000\n",
       "\n",
       "[8057 rows x 4 columns]"
      ]
     },
     "execution_count": 46,
     "metadata": {},
     "output_type": "execute_result"
    }
   ],
   "source": [
    "data_copy"
   ]
  },
  {
   "cell_type": "code",
   "execution_count": 47,
   "id": "737cf766",
   "metadata": {},
   "outputs": [],
   "source": [
    "data_copy['macd_pnl'] = data_copy[\"position_macd\"] * data_copy['returns2']"
   ]
  },
  {
   "cell_type": "code",
   "execution_count": 48,
   "id": "529e4468",
   "metadata": {
    "scrolled": true
   },
   "outputs": [
    {
     "name": "stdout",
     "output_type": "stream",
     "text": [
      "the average annual return for macd is: -0.0061212404238082385\n",
      "The sharpe ratio for macd is: -0.12755970089563679\n",
      "The maximum drawdown for macd is: -0.7888642033471782\n"
     ]
    }
   ],
   "source": [
    "pnl_col = data_copy['macd_pnl']\n",
    "average_annual_return = (1 + pnl_col).prod() ** (252/len(pnl_col)) - 1\n",
    "annual_std = pnl_col.std() * np.sqrt(252)\n",
    "sharpe_ratio = (average_annual_return - risk_free_rate) / (pnl_col.std() * np.sqrt(252))\n",
    "cumulative_returns = (1 + pnl_col).cumprod()\n",
    "cumulative_returns = cumulative_returns / cumulative_returns.cummax() - 1\n",
    "max_dd = cumulative_returns.min()\n",
    "print(\"the average annual return for macd is:\", average_annual_return)\n",
    "print(\"The sharpe ratio for macd is:\", sharpe_ratio)\n",
    "print(\"The maximum drawdown for macd is:\", max_dd)"
   ]
  },
  {
   "cell_type": "markdown",
   "id": "9a132f83",
   "metadata": {},
   "source": [
    "Not great !"
   ]
  }
 ],
 "metadata": {
  "kernelspec": {
   "display_name": "Python 3 (ipykernel)",
   "language": "python",
   "name": "python3"
  },
  "language_info": {
   "codemirror_mode": {
    "name": "ipython",
    "version": 3
   },
   "file_extension": ".py",
   "mimetype": "text/x-python",
   "name": "python",
   "nbconvert_exporter": "python",
   "pygments_lexer": "ipython3",
   "version": "3.9.12"
  }
 },
 "nbformat": 4,
 "nbformat_minor": 5
}
